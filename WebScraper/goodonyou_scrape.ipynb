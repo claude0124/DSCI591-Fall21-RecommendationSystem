{
 "cells": [
  {
   "cell_type": "code",
   "execution_count": 2,
   "id": "f6bad66b-b97b-4b9f-9056-911a31890235",
   "metadata": {},
   "outputs": [],
   "source": [
    "from bs4 import BeautifulSoup\n",
    "import feedparser, urllib, json, os, re, requests\n",
    "from collections import defaultdict"
   ]
  },
  {
   "cell_type": "markdown",
   "id": "bada5a7d-af6e-4c40-addf-e392ce789e40",
   "metadata": {},
   "source": [
    "# Grab Ratings Function\n",
    "- This function will parse through the individual brand page and retrieve the user-facing ratings given for the three sustainability criteria (Planet, People, Animals) and the cost rating."
   ]
  },
  {
   "cell_type": "code",
   "execution_count": 3,
   "id": "b5cdaf06-1594-4766-a520-fadd8ecb9014",
   "metadata": {},
   "outputs": [],
   "source": [
    "#soup.find_all('h3', {'class': 'StyledHeading-sc-1rdh4aw-0 haGwpv'})\n",
    "\n",
    "def grab_ratings(brand_page_soup):\n",
    "\n",
    "    #regrex patterns\n",
    "    rate_pat = re.compile('\\d')\n",
    "    cost_pat = re.compile('[$]')\n",
    "\n",
    "    brand_ratings = defaultdict(dict)\n",
    "    brand_metrics = brand_page_soup.find_all('span', {'class': 'StyledText-sc-1sadyjn-0 ccIhDL'})\n",
    "\n",
    "    #get second item, first item is the aggregated \"rating\", then count the number of '$' to rank it\n",
    "    brand_cost = brand_page_soup.find_all('span', {'class': 'StyledText-sc-1sadyjn-0 kkXGYR'})[1].text\n",
    "    brand_cost_rank = len(re.findall(cost_pat, brand_cost))\n",
    "\n",
    "\n",
    "    for i, metric in enumerate(['plant', 'people', 'animals']):\n",
    "        rating = re.findall(rate_pat, brand_metrics[i].text)\n",
    "        if not rating:\n",
    "            brand_ratings[metric] = None\n",
    "        else:\n",
    "            rating_dec = int(rating[0])/int(rating[1])\n",
    "            brand_ratings[metric] = rating_dec\n",
    "    \n",
    "    return(brand_cost_rank, brand_ratings)"
   ]
  },
  {
   "cell_type": "markdown",
   "id": "8fb5b023-a7f7-4c0e-8b90-ee044b5c7f20",
   "metadata": {},
   "source": [
    "# Scraper\n",
    "- Initiate the request and move down to get a list of all the brand links\n",
    "- We try to limit our initial pull as close to our target (t-shirts) as possible, with the 'tops' category"
   ]
  },
  {
   "cell_type": "code",
   "execution_count": 4,
   "id": "ec163bfd-f1e7-495b-b6d9-b3ff0a26a8dd",
   "metadata": {},
   "outputs": [],
   "source": [
    "#MAIN \"TOPS\"\n",
    "\n",
    "tops_site = 'https://directory.goodonyou.eco/categories/tops'\n",
    "hdr = {'User-agent': 'Mozilla/5.0'}\n",
    "req = urllib.request.Request(tops_site,headers=hdr)\n",
    "\n",
    "tops_page = urllib.request.urlopen(req)\n",
    "tops_soup = BeautifulSoup(tops_page, 'html.parser')\n",
    "entire_page_meta = json.loads(tops_soup.script.string)\n",
    "\n",
    "all_brands = entire_page_meta['props']['pageProps']['category']['brands']\n",
    "\n",
    "tops_brand_page = {'https://directory.goodonyou.eco/brand/'+i['id'] for i in all_brands}"
   ]
  },
  {
   "cell_type": "markdown",
   "id": "a6dd6e73-9a6c-455a-96f3-f1fdad31339f",
   "metadata": {},
   "source": [
    "## Scrapping Brand Pages\n",
    "- Step into the urls grabbed from the front page by creating a new request\n",
    "- Not all brands listed under 'tops' have actual t-shirts, thus we must check to see that they have the category listed on the page and skip if not\n",
    "- Record all of the data associated with the brand (url, cost and rating) -- note, other metadata was collected but is not currently used for our recommendation system."
   ]
  },
  {
   "cell_type": "code",
   "execution_count": null,
   "id": "6177803d-2bca-4e91-bcd4-243798bde9c1",
   "metadata": {},
   "outputs": [],
   "source": [
    "#STEPPING INTO EACH BRAND PAGE\n",
    "t_shirt_brand_dict = {}\n",
    "for brand_site in tops_brand_page:\n",
    "    \n",
    "    req2 = urllib.request.Request(brand_site,headers=hdr)\n",
    "\n",
    "    try:\n",
    "        page2 = urllib.request.urlopen(req2)\n",
    "    except:\n",
    "        t_shirt_brand_dict[brand_site] = 'NOT FOUND'\n",
    "        continue\n",
    "    soup2 = BeautifulSoup(page2, 'html.parser')    \n",
    "    \n",
    "    brand = json.loads(soup2.script.string)\n",
    "    brand_meta = brand['props']['pageProps']['brand']\n",
    "    t_shirt_check=False\n",
    "    for cat_i in brand_meta['categories']:\n",
    "        if cat_i['name']=='T-Shirts':\n",
    "            t_shirt_check = True\n",
    "            brand_cost, brand_rate = grab_ratings(soup2)\n",
    "\n",
    "\n",
    "    if t_shirt_check:\n",
    "        pass\n",
    "    else:\n",
    "        continue\n",
    "    t_shirt_brand_dict[brand_meta['id']] = {'link':brand_site, 'cost':brand_cost, 'rating':brand_rate}\n",
    "    \n",
    "    for meta_i in brand_meta:\n",
    "        t_shirt_brand_dict[brand_meta['id']][meta_i] = brand_meta[meta_i]\n",
    "#    'extra_meta':brand_meta}\n"
   ]
  },
  {
   "cell_type": "markdown",
   "id": "6cefae75-1280-479f-bbe1-dcfbaf4fc3c3",
   "metadata": {},
   "source": [
    "# Save File\n",
    "\n",
    "JSON File Structure\n",
    "\n",
    "brand name: {link:(http://...), cost:(1,2,3,4), ratings{planet:(1-5), 'people':(1-5), 'animals':(1-5)}, additional metadata: {...}}"
   ]
  },
  {
   "cell_type": "code",
   "execution_count": 8,
   "id": "59ce6003-72e2-4ce6-a876-15b6ae8500c4",
   "metadata": {},
   "outputs": [],
   "source": [
    "# note that GOY_brand_data.json must already exist at this point\n",
    "with open('data/GOY_brand_data.json', 'w+') as f:\n",
    "    # this would place the entire output on one line\n",
    "    # use json.dump(lista_items, f, indent=4) to \"pretty-print\" with four spaces per indent\n",
    "    json.dump(t_shirt_brand_dict, f)"
   ]
  }
 ],
 "metadata": {
  "kernelspec": {
   "display_name": "Python 3 (ipykernel)",
   "language": "python",
   "name": "python3"
  },
  "language_info": {
   "codemirror_mode": {
    "name": "ipython",
    "version": 3
   },
   "file_extension": ".py",
   "mimetype": "text/x-python",
   "name": "python",
   "nbconvert_exporter": "python",
   "pygments_lexer": "ipython3",
   "version": "3.8.10"
  }
 },
 "nbformat": 4,
 "nbformat_minor": 5
}
