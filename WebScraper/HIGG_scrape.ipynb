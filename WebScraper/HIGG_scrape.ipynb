{
 "cells": [
  {
   "cell_type": "code",
   "execution_count": 1,
   "id": "f6bad66b-b97b-4b9f-9056-911a31890235",
   "metadata": {},
   "outputs": [],
   "source": [
    "from bs4 import BeautifulSoup\n",
    "import feedparser, urllib, json, os, re, requests\n",
    "from collections import defaultdict\n",
    "\n",
    "from selenium import webdriver\n"
   ]
  },
  {
   "cell_type": "code",
   "execution_count": 85,
   "id": "fd25df24-7d83-4d96-9113-c20b65bb7da1",
   "metadata": {},
   "outputs": [],
   "source": [
    "#need to install a drive to use for selenium (e.g. chromediver)\n",
    "DRIVER_PATH='../chromedriver'\n",
    "\n",
    "driver = webdriver.Chrome(DRIVER_PATH)\n",
    "driver.get('https://portal.higg.org/')\n",
    "\n",
    "#clicking the login button to bring us to the creds page\n",
    "driver.find_element_by_xpath(\"/html/body/app-root/mat-drawer-container/mat-drawer-content/section/div/main/ng-component/div/div[2]/div/div/app-sign-in/div/div/div[2]/div/button\").click()"
   ]
  },
  {
   "cell_type": "code",
   "execution_count": 88,
   "id": "7954927c-8f42-434c-adbc-0dda4e12c339",
   "metadata": {},
   "outputs": [],
   "source": [
    "email_input = '/html/body/div/div/div/form/div/div/div/div/div[2]/div[2]/span/div/div/div/div/div/div/div/div/div/div/div[1]/div/input'\n",
    "pass_input = '/html/body/div/div/div/form/div/div/div/div/div[2]/div[2]/span/div/div/div/div/div/div/div/div/div/div/div[2]/div/div/input'\n",
    "\n",
    "#find the login fields for email and password \n",
    "log_email = driver.find_element_by_xpath(email_input)\n",
    "log_pass = driver.find_element_by_xpath(pass_input)\n",
    "\n",
    "#send your personal login info to the driver \n",
    "log_email.send_keys(\"\")\n",
    "log_pass.send_keys(\"\")"
   ]
  },
  {
   "cell_type": "code",
   "execution_count": 90,
   "id": "2ada1658-2fd7-4b9f-87a6-d988a67d3a2c",
   "metadata": {},
   "outputs": [],
   "source": [
    "#new path for the login button\n",
    "login_path2 = '/html/body/div/div/div/form/div/div/div/button'\n",
    "\n",
    "#second login click\n",
    "driver.find_element_by_xpath(login_path2).click()\n",
    "\n",
    "\n",
    "#expand dropdown list on the landing page\n",
    "driver.find_element_by_xpath('/html/body/app-root/mat-drawer-container/mat-drawer-content/app-header/div/header/app-top-navbar/nav/div[1]/ul/li[4]/button').click()\n",
    "\n",
    "#link to the MSI lib page\n",
    "driver.find_element_by_partial_link_text('MSI').click()\n",
    "\n",
    "#click on example materials page\n",
    "driver.find_element_by_xpath('/html/body/app-root/mat-drawer-container/mat-drawer-content/app-header/div/msi-navbar/div/span[3]').click()\n"
   ]
  },
  {
   "cell_type": "code",
   "execution_count": 122,
   "id": "adb99878-ea01-4812-9afd-e7a9d3976de3",
   "metadata": {},
   "outputs": [
    {
     "name": "stdout",
     "output_type": "stream",
     "text": [
      "1\n",
      "2\n",
      "3\n",
      "4\n",
      "5\n",
      "6\n",
      "7\n",
      "8\n",
      "9\n",
      "10\n"
     ]
    }
   ],
   "source": [
    "#k-link k-pager-nav\n",
    "data = {'MAT_FAMILY':[], 'MATERIAL':[], 'Global Warming':[],\n",
    " 'Eutrophication':[],\n",
    " 'Water Scarcity':[],\n",
    " 'Resource Depletion, Fossil Fuels':[]}\n",
    "\n",
    "#each material is stored in a table on the page, with only 10 or so displayed, so we need to cycle through the table tabs\n",
    "for match_i in driver.find_elements_by_class_name('k-link'):\n",
    "    \n",
    "    #check that it is a next-page link\n",
    "    try:\n",
    "        #print(int(match_i.text))\n",
    "        match_i.click()\n",
    "    except:\n",
    "        continue\n",
    "    \n",
    "    #table data\n",
    "    ls = driver.find_elements_by_class_name('k-grid-table')\n",
    "    \n",
    "    \n",
    "    split_text = ls[0].text.split('\\n')\n",
    "    \n",
    "    index_headers = split_text[2:6]\n",
    "    \n",
    "    #grab first item\n",
    "    data['MAT_FAMILY'].append(split_text[0])\n",
    "    data['MATERIAL'].append(split_text[1])\n",
    "    data['Global Warming'].append(split_text[7])\n",
    "    data['Eutrophication'].append(split_text[8])\n",
    "    data['Water Scarcity'].append(split_text[9])\n",
    "    data['Resource Depletion, Fossil Fuels'].append(split_text[10])\n",
    "    \n",
    "    #cycle through remaining items\n",
    "    for i in range(12, len(split_text), 7):\n",
    "        material_family = split_text[i]\n",
    "        material = split_text[i+1]\n",
    "        ratings = split_text[i+2:i+7]\n",
    "        \n",
    "        \n",
    "        data['MAT_FAMILY'].append(material_family)\n",
    "        data['MATERIAL'].append(material)\n",
    "        data['Global Warming'].append(ratings[0])\n",
    "        data['Eutrophication'].append(ratings[1])\n",
    "        data['Water Scarcity'].append(ratings[2])\n",
    "        data['Resource Depletion, Fossil Fuels'].append(ratings[3])\n",
    "\n"
   ]
  },
  {
   "cell_type": "code",
   "execution_count": 125,
   "id": "c883d520-457c-4a95-be5a-583aabd44fa9",
   "metadata": {},
   "outputs": [],
   "source": [
    "#save dataframe\n",
    "import pandas as pd\n",
    "pd.DataFrame(data).to_json('../data/HIGG_MSI_data')"
   ]
  }
 ],
 "metadata": {
  "kernelspec": {
   "display_name": "Python 3 (ipykernel)",
   "language": "python",
   "name": "python3"
  },
  "language_info": {
   "codemirror_mode": {
    "name": "ipython",
    "version": 3
   },
   "file_extension": ".py",
   "mimetype": "text/x-python",
   "name": "python",
   "nbconvert_exporter": "python",
   "pygments_lexer": "ipython3",
   "version": "3.8.10"
  }
 },
 "nbformat": 4,
 "nbformat_minor": 5
}
