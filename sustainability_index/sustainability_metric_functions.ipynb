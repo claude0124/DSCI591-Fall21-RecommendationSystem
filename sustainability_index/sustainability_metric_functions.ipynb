{
 "cells": [
  {
   "cell_type": "code",
   "execution_count": 35,
   "id": "82b8f85b-2581-490b-90f9-3c026a826711",
   "metadata": {},
   "outputs": [],
   "source": [
    "import pandas as pd\n",
    "import numpy as np\n",
    "import re\n",
    "from collections import defaultdict \n"
   ]
  },
  {
   "cell_type": "markdown",
   "id": "b60ff07d-bc04-4b2e-af9b-4840a40b7ecf",
   "metadata": {},
   "source": [
    "# Loading Datasets\n",
    "- item_df: dataset of the scrapped articles of clothing\n",
    "- higg_df: sustainability index dataset from Higg MSI"
   ]
  },
  {
   "cell_type": "code",
   "execution_count": 36,
   "id": "52c4f5dd-7374-41d9-ba42-91f38ecbf653",
   "metadata": {},
   "outputs": [],
   "source": [
    "folder_path = ''\n",
    "\n",
    "item_df = pd.read_csv(folder_path + '/E-Weaver_data.csv', index_col=0)\n",
    "higg_df = pd.read_json('../data/HIGG_MSI_data')"
   ]
  },
  {
   "cell_type": "code",
   "execution_count": 37,
   "id": "00871c31-9c6e-46f8-a1fd-1c83ddf9ada9",
   "metadata": {},
   "outputs": [],
   "source": [
    "#remove the \"fiber\" or \"fabric\" in the material names and make it all lower case\n",
    "regex_pat = re.compile('(fabric|fiber)', flags = re.IGNORECASE)\n",
    "higg_df.loc[:,'MATERIAL'] = higg_df['MATERIAL'].str.replace(regex_pat, '', regex=True).str.lower().str.strip()\n",
    "\n",
    "##ONLY ONE POLYSTYRENE INSTANCE - MIGHT DROP IT BECAUSE WE DON'T HAVE IT IN THE HIGG\n",
    "##(df[df['polystyrene']!=0])"
   ]
  },
  {
   "cell_type": "markdown",
   "id": "d9b143a0-a5aa-46fc-b080-4c1b33b55e95",
   "metadata": {},
   "source": [
    "## Correcting names and replacing columns\n",
    "In our scrapped dataset, many items have synonymous names or do not directly exist in the Higg MSI (e.g. 'cupro' is a type of rayon, but is not in the Higg MSI, thus we assign it as general rayon for measuring sustainability).\n",
    "\n",
    "Furthermore, many of the Higg MSI textiles are listed as a single instance, so we create a new column to allow for all unique names."
   ]
  },
  {
   "cell_type": "code",
   "execution_count": 38,
   "id": "c91eff8a-61a9-45db-a072-7c94792ee548",
   "metadata": {},
   "outputs": [],
   "source": [
    "#correcting the \"polystyrene\" - for some reason, mispelled in the Higg MSI\n",
    "higg_df.replace('polysterene (ps) plastic', 'polystyrene', inplace=True)\n",
    "\n",
    "#dict of equivalent textile names to create a new column\n",
    "equiv_names_col = {'flax':'linen', \n",
    "                   'viscose/rayon':'rayon, cupro',\n",
    "                   'elastane/spandex':'spandex',\n",
    "                   'goat leather':'lambskin',\n",
    "                   'acetate, triacetate':'triacetate'}\n",
    "higg_df.insert(loc = 2, column='EQUIV_NAME', value = [equiv_names_col[i] if i in equiv_names_col else 'nan' for i in higg_df['MATERIAL']])\n",
    "\n",
    "#replace viscose/rayon with viscose\n",
    "#replace elastane/spandex with elastane\n",
    "higg_df.replace({'viscose/rayon': 'viscose', 'elastane/spandex':'elastane', 'acetate, triacetate':'acetate'}, inplace=True)"
   ]
  },
  {
   "cell_type": "markdown",
   "id": "b61957c7-b5a9-49de-a4cd-d027f4a85764",
   "metadata": {},
   "source": [
    "## Connecting Item Composition to Higg MSI - creating scores"
   ]
  },
  {
   "cell_type": "markdown",
   "id": "44f879e7-d68c-43a2-b669-3f86751bb4b3",
   "metadata": {},
   "source": [
    "## Normalization reference values, summing to single score (\"comp_score\" Function)\n",
    "- Global Warming - 1.00E + 00 kg−1 CO2 eq \n",
    "- Eutrophication- 1.00E + 03 kg−1 PO eq\n",
    "- Water Scarcity - 3.31E + 01 (m3)−1 \n",
    "- Resource Depletion, Fossil Fuels - 7.59E−02 MJ−1"
   ]
  },
  {
   "cell_type": "code",
   "execution_count": 39,
   "id": "0d80f82f-b198-4902-8229-4df06af857d9",
   "metadata": {},
   "outputs": [],
   "source": [
    "def comp_score(material_scores, ratios, weights = 1):\n",
    "\n",
    "    norm_values = {i:j for i,j  in zip(['Global Warming','Eutrophication','Water Scarcity','Resource Depletion, Fossil Fuels'], [1, 1000, 33.1, 0.0759])}\n",
    "#tst_item = item_higg_df.iloc[0]['mat_higg'][0]\n",
    "\n",
    "    NR = list(norm_values.values())\n",
    "\n",
    "    #NF is the inverse of NR\n",
    "    #normalization factor (the inverse of a normalization reference value)\n",
    "    NF = [1/i for i in NR]\n",
    "    \n",
    "    comp_sustain_score = 0\n",
    "    for score_i, ratio_i in zip(material_scores, ratios):\n",
    "        if len(score_i) == 0:\n",
    "             pass\n",
    "        else:\n",
    "            comp_sustain_score += np.sum(score_i*NF*weights)*ratio_i\n",
    "        #higg_tst = np.sum(tst_item*NF)\n",
    "\n",
    "    return(comp_sustain_score)"
   ]
  },
  {
   "cell_type": "markdown",
   "id": "9199c6a3-5a7c-40c3-af44-b66cf0459803",
   "metadata": {},
   "source": [
    "## Connect material names to Higg MSI name and scores (\"item_to_higg\" function)\n",
    "\n",
    "Function below (item_to_higg) creates a new dataframe with the textile sustainability scores scaled by their relative composition in the item.\n",
    "\n",
    " - - Note: need to update this function later to allow it to adaptive add scores rather than going through the entire dataset each time."
   ]
  },
  {
   "cell_type": "code",
   "execution_count": 40,
   "id": "ed171124-6068-4c72-9da3-74e6d42d42d8",
   "metadata": {},
   "outputs": [],
   "source": [
    "def item_to_higg(item_df, higg_df):\n",
    "    mat_dict = defaultdict(dict)\n",
    "    \n",
    "    #names of the Higg_msi characteristics\n",
    "    index_names = ['Global Warming','Eutrophication','Water Scarcity','Resource Depletion, Fossil Fuels']\n",
    "    \n",
    "    \n",
    "    \n",
    "    mat_names = ['linen', 'nylon', 'cotton', 'lyocell', 'lambskin',\n",
    "       'elastane', 'wool', 'viscose', 'polyamide', 'silk', 'acrylic',\n",
    "       'polyester', 'modal', 'polystyrene', 'rayon', 'spandex', 'cupro',\n",
    "       'hemp']\n",
    "    \n",
    "    #iterate through the items\n",
    "    for item_i in item_df[mat_names].iterrows():\n",
    "        #grab only the non-zero instances - name and the fraction\n",
    "        item_index = item_i[0]\n",
    "        \n",
    "        row_i = item_i[1][item_i[1]!=0]\n",
    "        mats, ratios = row_i.index, row_i.values\n",
    "        \n",
    "        mat_dict[item_index] = {'mat_higg':[], 'ratio':[], 'comp_score':None}\n",
    "        #iterate through each material and search the higg_index\n",
    "        for mat_i, ratio_i in zip(mats, ratios):\n",
    "            mat_dict[item_index]['ratio'].append(ratio_i)\n",
    "            \n",
    "            \n",
    "            \n",
    "            \n",
    "            #check if name is in MATERIAL\n",
    "            if sum(higg_df['MATERIAL'].str.contains(mat_i))!=0:\n",
    "                matches = higg_df[higg_df['MATERIAL'].str.contains(mat_i)]\n",
    "                \n",
    "                #if there are more than 1 match, choose the one that is textiles - \n",
    "                ## keeping it general in case there are more types of material in teh future\n",
    "                if len(matches)>1:\n",
    "                    tar_higg = matches[matches['MAT_FAMILY']=='TEXTILES'][index_names].values[0]\n",
    "                \n",
    "                else:\n",
    "                    tar_higg = matches[index_names].values[0]\n",
    "                    \n",
    "                    \n",
    "            #then check EQUIV_NAME names\n",
    "            elif sum(higg_df['EQUIV_NAME'].str.contains(mat_i))!=0:\n",
    "                matches = higg_df[higg_df['EQUIV_NAME'].str.contains(mat_i)]\n",
    "                tar_higg = matches[index_names].values[0]\n",
    "                \n",
    "            else:\n",
    "                tar_higg = []\n",
    "#                return('NOT IN HIGG INDEX')\n",
    "            mat_dict[item_index]['mat_higg'].append(tar_higg)\n",
    "    \n",
    "        mat_dict[item_index]['comp_score']= (comp_score(mat_dict[item_index]['mat_higg'], mat_dict[item_index]['ratio']))\n",
    "    return(pd.DataFrame(mat_dict).T)"
   ]
  },
  {
   "cell_type": "code",
   "execution_count": 41,
   "id": "fd869ec2-b86b-4ebc-ab28-463c90a135d8",
   "metadata": {},
   "outputs": [],
   "source": [
    "item_higg_df = item_to_higg(item_df, higg_df)"
   ]
  },
  {
   "cell_type": "markdown",
   "id": "ced67f1d-30e0-4381-a423-2ed51f230c2b",
   "metadata": {},
   "source": [
    "## User's input their Ranking of concerns to weight each of the metrics\n",
    "\n",
    "May possible integrate with comp_score function later if we want to assign weights to the different characterizations"
   ]
  },
  {
   "cell_type": "code",
   "execution_count": 42,
   "id": "0829ab21-2ce4-489b-8c89-30dd2b9a896f",
   "metadata": {},
   "outputs": [],
   "source": [
    "user_concern_preference = {'gloabl_warming': 1, 'ocean': 4, 'water':3, 'resource_depletion':2}"
   ]
  },
  {
   "cell_type": "code",
   "execution_count": 43,
   "id": "9bec0295-2a9e-425a-addd-a62aa3f10762",
   "metadata": {},
   "outputs": [],
   "source": [
    "def normal_user_pref(user_pref):\n",
    "    #columns\n",
    "    df_cols = ['Global Warming',\t'Eutrophication',\t'Water Scarcity',\t'Resource Depletion, Fossil Fuels']\n",
    "    \n",
    "    #convert ranking to fractions \n",
    "    vals = 1/np.array(list(user_pref.values()))\n",
    "    vals = np.round(vals, decimals=1)\n",
    "    normal_vals = vals/sum(vals)\n",
    "    \n",
    "    return({i:j for i,j in zip(df_cols, normal_vals)})"
   ]
  },
  {
   "cell_type": "code",
   "execution_count": 44,
   "id": "1801d1b5-ed65-4fc0-81b1-a290dcd8f3a4",
   "metadata": {},
   "outputs": [],
   "source": [
    "user_norms=normal_user_pref(user_concern_preference)\n",
    "pref_weighted_textiles = higg_df[user_norms.keys()]*user_norms.values()"
   ]
  },
  {
   "cell_type": "markdown",
   "id": "5fe56981-ae81-48f0-b277-f04460e535f6",
   "metadata": {},
   "source": [
    "# Adding in goodonyou ratings"
   ]
  },
  {
   "cell_type": "code",
   "execution_count": 53,
   "id": "052c1a8b-6904-4cd0-b03d-a992b8f17ebe",
   "metadata": {},
   "outputs": [],
   "source": [
    "goy_path = '../data/GOY_brand_data.json'\n",
    "#goy_df = pd.read_json(goy_path)\n",
    "import json\n",
    "\n",
    "with open(goy_path, 'r') as f:\n",
    "    goy_df = json.load(f)"
   ]
  },
  {
   "cell_type": "code",
   "execution_count": 106,
   "id": "fc21f649-642b-4108-849d-1b728c5cf5fa",
   "metadata": {},
   "outputs": [],
   "source": [
    "from fuzzywuzzy import fuzz\n",
    "#use fuzzy matching\n",
    "\n",
    "#lower_names = [str.lower(i) for i in list(goy_df.keys())]\n",
    "matches = {}\n",
    "\n",
    "for i in item_df['brand'].unique():\n",
    "    max_ratio = 0\n",
    "    for j in list(goy_df.keys()):\n",
    "        ratio = fuzz.ratio(i.lower(),j.lower()) \n",
    "        if ratio > max_ratio:\n",
    "            max_ratio = ratio\n",
    "            match = j\n",
    "        else:\n",
    "            continue\n",
    "    matches[i] = match\n",
    "    \n",
    "#check matches\n",
    "matches['Mate']='MATE the Label'"
   ]
  },
  {
   "cell_type": "code",
   "execution_count": 109,
   "id": "e634742b-2eed-441c-a0c1-b801be8c1440",
   "metadata": {},
   "outputs": [],
   "source": [
    "def assign_ratings(target_brand):\n",
    "    rename_brand = matches[target_brand]\n",
    "    rating = goy_df[rename_brand]['rating']\n",
    "    \n",
    "    return(rating)\n",
    "ratings_list = [assign_ratings(i) for i in item_df['brand']]\n"
   ]
  },
  {
   "cell_type": "code",
   "execution_count": 122,
   "id": "04c2244c-c43e-4d3d-9591-744d9937549d",
   "metadata": {},
   "outputs": [],
   "source": [
    "full_weighted_sus_score = pd.DataFrame(ratings_list, index = item_df.index)* item_higg_df[['comp_score']].values"
   ]
  },
  {
   "cell_type": "code",
   "execution_count": 123,
   "id": "965d7df8-44ef-4806-927a-7d6d1810b054",
   "metadata": {},
   "outputs": [],
   "source": [
    "full_weighted_sus_score.to_csv(folder_path+'/item_sus_score_df.csv')"
   ]
  }
 ],
 "metadata": {
  "kernelspec": {
   "display_name": "Python 3 (ipykernel)",
   "language": "python",
   "name": "python3"
  },
  "language_info": {
   "codemirror_mode": {
    "name": "ipython",
    "version": 3
   },
   "file_extension": ".py",
   "mimetype": "text/x-python",
   "name": "python",
   "nbconvert_exporter": "python",
   "pygments_lexer": "ipython3",
   "version": "3.8.10"
  }
 },
 "nbformat": 4,
 "nbformat_minor": 5
}
