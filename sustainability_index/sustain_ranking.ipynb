{
 "cells": [
  {
   "cell_type": "markdown",
   "id": "a64ca64a-800a-4631-ae4d-22104a73d97f",
   "metadata": {},
   "source": [
    "# Thinking too big: create an \"app\" or browser extension that will read the materials and sustainability measurements to give a metric on how sustainable it is, while also providing some \"warnings\" about \"hidden\" potential impacts of certain clothes - e.g. synthetic has less impact up-front than many other materials but there may be an issue with microfibers being released into the environment"
   ]
  },
  {
   "cell_type": "markdown",
   "id": "af8f8c61-0777-487e-b7c0-d7eecf80a670",
   "metadata": {},
   "source": [
    "# NEW IDEA: Marry together the goodonyou rating system of the company with the item-level specific data (e.g. material, cost, etc.) -- this is how we separate two t-shirts that are the same color and material."
   ]
  },
  {
   "cell_type": "markdown",
   "id": "fc414fc5-d23e-449f-a44d-2af6751d6085",
   "metadata": {},
   "source": [
    "# Lifespan by Material"
   ]
  },
  {
   "cell_type": "markdown",
   "id": "e4f5104c-17a3-4577-8973-7657a9c14947",
   "metadata": {},
   "source": [
    "From \"Does Use Matter? Comparison of Environmental Impacts of Clothing Based on Fiber Type\"...\n",
    "\n",
    " - Shirts/blouses/tops (casual/everyday)\n",
    "   - Cotton: 3.8 years\n",
    "   - Synthetic/Man Made: 6.2 years\n",
    "   - Wool and Blends: 6.0 years\n",
    "   - Silk: 8.5 years\n",
    "   \n",
    "The UK Waste and Resources Action Programme (WRAP) has prepared a clothing longevity protocol with the aim of improving the sustainability of clothing across its life-cycle - they estimate the per-year use for ***t-shirts (25 wears), and finally shirts (16 wears).***\n",
    "\n",
    "\n",
    "\" For example, wool requires less energy and chemicals to be kept\n",
    "clean, compared to cotton. Cotton requires a more powerful wash, and often also uses energy for\n",
    "drying and wrinkle removal. Synthetic fabrics become dirty faster and are washed more frequently\""
   ]
  },
  {
   "cell_type": "markdown",
   "id": "1765ca26-e87f-4c79-b0a2-5a3f524fe8af",
   "metadata": {},
   "source": [
    "![https://www.mdpi.com/2071-1050/11/14/3846/htm#B28-sustainability-11-03846](figs/higg_life.png \"a title\")\n",
    "![https://www.mdpi.com/2071-1050/11/14/3846/htm#B28-sustainability-11-03846](figs/higg_corrected.png \"a title\")"
   ]
  },
  {
   "cell_type": "markdown",
   "id": "df66aca7-c78f-4c46-8a2e-e1912915d994",
   "metadata": {},
   "source": [
    "# Fiber content reuse (donate to charity, donate to Family/Friends, or sell)\n",
    "\n",
    " - \"The 2012 Nielsen survey also asked where the respondents were going to dispose of garments when they stopped using them\"\n",
    "   - Cotton/Blends: 42%\n",
    "   - Wool/Blends: 50%\n",
    "   - Synthetics: 44%\n",
    "   - Silk: 47%\n",
    "   \n",
    "  \n",
    "![https://www.mdpi.com/2071-1050/11/14/3846/htm#B28-sustainability-11-03846](figs/reuse.png \"a title\")\n",
    "\n",
    "\n",
    "## Sustainable End-of-life as (% DONATION + % Sell + % \"Recycle\"), they become:\n",
    "    - Cotton/Blends: 56% (+14)\n",
    "    - Wool/Blends: 60% (+10)\n",
    "    - Synthetics: 52% (+8)\n",
    "    - Silk: 56% (+9)\n",
    "\n"
   ]
  },
  {
   "cell_type": "markdown",
   "id": "79e21532-c3cf-4771-94f4-a7b393f80008",
   "metadata": {},
   "source": [
    "# Consider a LCA to include Co-products?  This would be \"consequential modeling\"\n",
    "\n",
    "Many natural fiber materials used for clothing will have \"co-products\", which are other useful materials that are not directly used in the production of the clothing item.  These co-products may offset the initial impact of some materials.\n",
    "\n",
    "On the other hand, synthetics have few co-products and therefore a majority of their impact can be attributed to their production sole purpose.\n",
    "\n",
    "---\n",
    "\n",
    "Cotton harvesting:\n",
    " - Lint/Fiber (the main product, used to make clothes only 47% of the total mass)\n",
    " - Cottonseed (~53% of the total mass, not useful for clothing, but can be useful...)\n",
    "   - Cottonseed oil (15–22% of seed mass)\n",
    "   - cottonseed meal (17% by mass)\n",
    "     \n",
    "Wool harvesting:\n",
    " - Wool Fiber (the main product)\n",
    " - Meat (displace the red meat impacts when harvesting only for the meat and not the high quality fiber)"
   ]
  },
  {
   "cell_type": "markdown",
   "id": "ccc17125-a65b-4e67-b99f-8e8495fe6925",
   "metadata": {},
   "source": [
    "---\n",
    "\n",
    "# Overall, Combined Model Possibility:\n",
    "\n",
    "**START**\n",
    "\n",
    "***Academic/standards background***\n",
    " - 1a) Higg MSI\n",
    "   - will need to be careful/transparent with our use of this.  It is a wildly used tool; however, nearly every academic article I've read is HIGHLY critical of it when it comes to certain things (hopefully we can address the gaps)\n",
    " - 1b) Include garment lifetime and washing/drying impacts (for three major types: cotton, polyester, wool) - from Watson et. al [2019]\n",
    "   - These two combined make up a majority of cradle to grave rating, being agnostic to the particular practices of a manufacturer or impacts due to their location.\n",
    "   - It will include the cost of manufacturing as well as the average lifespan - might include a min and max lifespan to give potential range based on consumer's use\n",
    "   - incorporate the average T-shirt lifespan into the fiber type lifespan\n",
    "   \n",
    "***Good On You Index***\n",
    " - 2.) Incorporate the brand-specific ratings to further specify sustainability - not just the item material but practices of that brand.  \n",
    "   - This will include price if not already obtained from item level.\n",
    "   - Need to take an even closer look at their rating system \n",
    "   \n",
    "***Further Options***\n",
    " - 3a) Micro-plastic leaching\n",
    "   - This will be a later consideration, seeing as not all synthetics are made equal and will have this problem.  \n",
    "   - Also, many of the issues can be reduced with education of the buyer, letting them know the \"risks\" and how to properly care for it to ensure it does not release large amounts of micro-plastics into the general waterway/Environment. \n",
    " - 3b) Carbon footprint of shipping from plant to seller (US in general, most likely or one of the coasts)\n",
    " - 3c) 3R Rates (reduce reuse recycle) for certain materials - from Laitala et al. [2018]\n",
    " "
   ]
  },
  {
   "cell_type": "code",
   "execution_count": null,
   "id": "87e15f85-9ec2-4c26-93ad-b61409aa222a",
   "metadata": {},
   "outputs": [],
   "source": []
  },
  {
   "cell_type": "code",
   "execution_count": null,
   "id": "03a46a76-6cc1-494e-ac05-b6a8ad7fb37a",
   "metadata": {},
   "outputs": [],
   "source": []
  },
  {
   "cell_type": "markdown",
   "id": "71a78d42-4f77-4eea-8430-e36c723cc8ea",
   "metadata": {},
   "source": [
    "# OUR RANKING WILL BE A TYPE OF RANKING THAT IS BASED ON COMPENTSATION\n",
    "\n",
    "from \"Evaluating alternative environmental decision support matrices\":\n",
    "\n",
    "decision analysis and aggregation theory  s “compensation” (Munda and Nardo 2009; Rowley et al. 2012). Compensation is the characteristic of a method that enables poor and good performance to make up for one another indefnitely\n",
    "\n",
    "The property of compensation is not fawed, per se, as it\n",
    "is applicable in cases where poor and good performances\n",
    "should ofset each other, such as with economic criteria\n",
    "(proft and loss). However, in an environmental and/or sustainability context the practice of compensatory aggregation methods for a composite index is deemed unsuitable\n",
    "and instead partially compensatory/non-linear methods are\n",
    "recommended instead (Munda and Nardo 2009; Pollesch\n",
    "and Dale 2015, 2016; Munda 2016)"
   ]
  },
  {
   "cell_type": "code",
   "execution_count": 2,
   "id": "82b8f85b-2581-490b-90f9-3c026a826711",
   "metadata": {},
   "outputs": [],
   "source": [
    "import pandas as pd\n",
    "import numpy as np\n",
    "import re\n",
    "from collections import defaultdict \n"
   ]
  },
  {
   "cell_type": "code",
   "execution_count": 3,
   "id": "52c4f5dd-7374-41d9-ba42-91f38ecbf653",
   "metadata": {},
   "outputs": [],
   "source": [
    "higg_df = pd.read_json('../data/HIGG_MSI_data')\n",
    "\n",
    "#path='./data/E-Weaver_data.csv'\n",
    "folder_path = '/Users/cmurph53/Documents/GitHub/DSCI591-Fall21-RecommendationSystem/data'\n",
    "image_path = folder_path+'/image_data/'\n",
    "item_df = pd.read_csv(folder_path + '/E-Weaver_data.csv', index_col=0)"
   ]
  },
  {
   "cell_type": "code",
   "execution_count": 4,
   "id": "00871c31-9c6e-46f8-a1fd-1c83ddf9ada9",
   "metadata": {},
   "outputs": [],
   "source": [
    "#higg_df = higg_df[higg_df['MAT_FAMILY'].isin(['LEATHER','TEXTILES','SYNTHETIC LEATHER'])]\n",
    "regex_pat = re.compile('(fabric|fiber)', flags = re.IGNORECASE)\n",
    "higg_df.loc[:,'MATERIAL'] = higg_df['MATERIAL'].str.replace(regex_pat, '', regex=True).str.lower().str.strip()\n",
    "\n",
    "\n",
    "\n",
    "\n",
    "#ONLY ONE POLYSTYRENE INSTANCE - MIGHT DROP IT BECAUSE WE DON'T HAVE IT IN THE HIGG\n",
    "#(df[df['polystyrene']!=0])"
   ]
  },
  {
   "cell_type": "markdown",
   "id": "d9b143a0-a5aa-46fc-b080-4c1b33b55e95",
   "metadata": {},
   "source": [
    "# correcting names and replacing columns:"
   ]
  },
  {
   "cell_type": "code",
   "execution_count": 5,
   "id": "c91eff8a-61a9-45db-a072-7c94792ee548",
   "metadata": {},
   "outputs": [],
   "source": [
    "#appending the \"polystyrene\"\n",
    "#higg_df = higg_df.append(higg_df.iloc[33])\n",
    "higg_df.replace('Polysterene (PS) plastic', 'polysterene', inplace=True)\n",
    "\n",
    "\n",
    "equiv_names_col = {'flax':'linen', 'viscose/rayon':'rayon, cupro', 'elastane/spandex':'spandex', 'goat leather':'lambskin', 'acetate, triacetate':'triacetate'}\n",
    "higg_df.insert(loc = 2, column='EQUIV_NAME', value = [equiv_names_col[i] if i in equiv_names_col else 'nan' for i in higg_df['MATERIAL']])\n",
    "\n",
    "#replace viscose/rayon with viscose\n",
    "#replace elastane/spandex with elastane\n",
    "higg_df.replace({'viscose/rayon': 'viscose', 'elastane/spandex':'elastane', 'acetate, triacetate':'acetate'}, inplace=True)"
   ]
  },
  {
   "cell_type": "markdown",
   "id": "b61957c7-b5a9-49de-a4cd-d027f4a85764",
   "metadata": {},
   "source": [
    "# NEXT: WRITE FUNCTION TO CONNECT THE MAT NAME FROM SCRAPED DF TO THE VALUES IN HIGG - MAKING SURE THE NAME CAN BE FOUND"
   ]
  },
  {
   "cell_type": "code",
   "execution_count": 6,
   "id": "ed171124-6068-4c72-9da3-74e6d42d42d8",
   "metadata": {},
   "outputs": [],
   "source": [
    "def item_to_higg(item_df, higg_df):\n",
    "#    item_higg_df = pd.DataFrame(index = item_df.index)\n",
    "    mat_dict = defaultdict(dict)\n",
    "    \n",
    "    index_names = ['Global Warming','Eutrophication','Water Scarcity','Resource Depletion, Fossil Fuels']\n",
    "    mat_names = ['linen', 'nylon', 'cotton', 'lyocell', 'lambskin',\n",
    "       'elastane', 'wool', 'viscose', 'polyamide', 'silk', 'acrylic',\n",
    "       'polyester', 'modal', 'polystyrene', 'rayon', 'spandex', 'cupro',\n",
    "       'hemp']\n",
    "    \n",
    "    #iterate through the items\n",
    "    for item_i in item_df[mat_names].iterrows():\n",
    "        #grab only the non-zero instances - name and the fraction\n",
    "        item_index = item_i[0]\n",
    "        \n",
    "        row_i = item_i[1][item_i[1]!=0]\n",
    "        mats, ratios = row_i.index, row_i.values\n",
    "        \n",
    "        mat_dict[item_index] = {'mat_higg':[], 'ratio':[]}\n",
    "        #iterate through each material and search the higg_index\n",
    "        for mat_i, ratio_i in zip(mats, ratios):\n",
    "            mat_dict[item_index]['ratio'].append(ratio_i)\n",
    "            \n",
    "            \n",
    "            \n",
    "            \n",
    "            #check if name is in MATERIAL\n",
    "            if sum(higg_df['MATERIAL'].str.contains(mat_i))!=0:\n",
    "                matches = higg_df[higg_df['MATERIAL'].str.contains(mat_i)]\n",
    "                \n",
    "                #if there are more than 1 match, choose the one that is textiles\n",
    "                if len(matches)>1:\n",
    "                    tar_higg = matches[matches['MAT_FAMILY']=='TEXTILES'][index_names].values[0]\n",
    "                \n",
    "                else:\n",
    "                    tar_higg = matches[index_names].values[0]\n",
    "                    \n",
    "                    \n",
    "                #tar_higg = higg_df[higg_df['MATERIAL']==tar_name][index_names]\n",
    "            #then check EQUIV_NAME names\n",
    "            elif sum(higg_df['EQUIV_NAME'].str.contains(mat_i))!=0:\n",
    "                matches = higg_df[higg_df['EQUIV_NAME'].str.contains(mat_i)]\n",
    "                tar_higg = matches[index_names].values[0]\n",
    "                \n",
    "                #tar_higg = higg_df[higg_df['EQUIV_NAME']==tar_name][index_names]\n",
    "            else:\n",
    "                tar_higg = 'nan'\n",
    "#                return('NOT IN HIGG INDEX')\n",
    "            \n",
    "            mat_dict[item_index]['mat_higg'].append(tar_higg)\n",
    "    return(pd.DataFrame(mat_dict).T)"
   ]
  },
  {
   "cell_type": "code",
   "execution_count": 7,
   "id": "fd869ec2-b86b-4ebc-ab28-463c90a135d8",
   "metadata": {},
   "outputs": [],
   "source": [
    "item_higg_df = item_to_higg(item_df, higg_df)"
   ]
  },
  {
   "cell_type": "code",
   "execution_count": 10,
   "id": "99e9253e-d435-4957-86a9-4535ad7f4907",
   "metadata": {},
   "outputs": [
    {
     "data": {
      "text/plain": [
       "[array([8.63, 6.72, 5.57, 9.22]), array([ 9.66,  3.29,  1.32, 12.6 ])]"
      ]
     },
     "execution_count": 10,
     "metadata": {},
     "output_type": "execute_result"
    }
   ],
   "source": [
    "item_higg_df.iloc[63]['mat_higg']"
   ]
  },
  {
   "cell_type": "markdown",
   "id": "ced67f1d-30e0-4381-a423-2ed51f230c2b",
   "metadata": {},
   "source": [
    "## User's input their Ranking of concerns to weight each of the metrics"
   ]
  },
  {
   "cell_type": "code",
   "execution_count": 11,
   "id": "0829ab21-2ce4-489b-8c89-30dd2b9a896f",
   "metadata": {},
   "outputs": [],
   "source": [
    "user_concern_preference = {'gloabl_warming': 1, 'ocean': 4, 'water':3, 'resource_depletion':2}"
   ]
  },
  {
   "cell_type": "code",
   "execution_count": 12,
   "id": "9bec0295-2a9e-425a-addd-a62aa3f10762",
   "metadata": {},
   "outputs": [],
   "source": [
    "def normal_user_pref(user_pref):\n",
    "    #columns\n",
    "    df_cols = ['Global Warming',\t'Eutrophication',\t'Water Scarcity',\t'Resource Depletion, Fossil Fuels']\n",
    "    \n",
    "    #convert ranking to fractions \n",
    "    vals = 1/np.array(list(user_pref.values()))\n",
    "    vals = np.round(vals, decimals=1)\n",
    "    normal_vals = vals/sum(vals)\n",
    "    \n",
    "    return({i:j for i,j in zip(df_cols, normal_vals)})"
   ]
  },
  {
   "cell_type": "code",
   "execution_count": null,
   "id": "1801d1b5-ed65-4fc0-81b1-a290dcd8f3a4",
   "metadata": {},
   "outputs": [],
   "source": [
    "norms=normal_user_pref(user_concern_preference)\n",
    "pref_weighted_textiles = higg_df[norms.keys()]*norms.values()"
   ]
  },
  {
   "cell_type": "code",
   "execution_count": 31,
   "id": "3d548513-4e6e-466f-9b17-36c2f26d631d",
   "metadata": {},
   "outputs": [],
   "source": [
    "# 1.00E + 00 kg−1 CO2 eq \n",
    "#1.00E + 03 kg−1 PO eq\n",
    "# 3.31E + 01 (m3)−1 \n",
    "# 7.59E − 02 MJ−1\n",
    "\n",
    "norm_values = {i:j for i,j  in zip(['gloabl_warming','ocean', 'water','resource_depletion'], [1, 1000, 33.1, 0.0759])}"
   ]
  },
  {
   "cell_type": "code",
   "execution_count": 32,
   "id": "37f6f43e-0bb6-4e0a-ae0c-f91150443b9d",
   "metadata": {},
   "outputs": [
    {
     "data": {
      "text/plain": [
       "{'gloabl_warming': 1.0,\n",
       " 'ocean': 0.001,\n",
       " 'water': 0.030211480362537763,\n",
       " 'resource_depletion': 13.175230566534916}"
      ]
     },
     "execution_count": 32,
     "metadata": {},
     "output_type": "execute_result"
    }
   ],
   "source": [
    "norm_values"
   ]
  },
  {
   "cell_type": "code",
   "execution_count": 34,
   "id": "6999bf77-0d23-4784-a8e1-31414b4fff17",
   "metadata": {},
   "outputs": [
    {
     "data": {
      "text/plain": [
       "98.6849680188195"
      ]
     },
     "execution_count": 34,
     "metadata": {},
     "output_type": "execute_result"
    }
   ],
   "source": [
    "tst_item = item_higg_df.iloc[0]['mat_higg'][0]\n",
    "\n",
    "NR = list(norm_values.values())\n",
    "\n",
    "#NF is the inverse of NR\n",
    "#normalization factor (the inverse of a normalization reference value)\n",
    "NF = [1/i for i in NR]\n",
    "\n",
    "\n",
    "#higg_tst = np.sum(tst*list(norm_facors.values()))\n",
    "higg_tst = np.sum(tst_item*NF)\n",
    "\n",
    "higg_tst"
   ]
  },
  {
   "cell_type": "code",
   "execution_count": null,
   "id": "99b908b3-9a3b-4159-9940-ebaad138c129",
   "metadata": {},
   "outputs": [
    {
     "data": {
      "text/plain": [
       "array([8.80000e+00, 1.76000e+04, 1.89001e+03, 5.07771e-01])"
      ]
     },
     "execution_count": 19,
     "metadata": {},
     "output_type": "execute_result"
    }
   ],
   "source": [
    "tst_item*list(norm_facors.values())"
   ]
  },
  {
   "cell_type": "code",
   "execution_count": 20,
   "id": "4d6c5daa-cb50-4abe-b067-66dabb0b3a95",
   "metadata": {},
   "outputs": [
    {
     "data": {
      "text/plain": [
       "array([ 8.8 , 17.6 , 57.1 ,  6.69])"
      ]
     },
     "execution_count": 20,
     "metadata": {},
     "output_type": "execute_result"
    }
   ],
   "source": [
    "tst"
   ]
  },
  {
   "cell_type": "code",
   "execution_count": null,
   "id": "b25ac352-1637-4e8c-bc6e-dd9fd60eedb1",
   "metadata": {},
   "outputs": [],
   "source": []
  }
 ],
 "metadata": {
  "kernelspec": {
   "display_name": "Python 3 (ipykernel)",
   "language": "python",
   "name": "python3"
  },
  "language_info": {
   "codemirror_mode": {
    "name": "ipython",
    "version": 3
   },
   "file_extension": ".py",
   "mimetype": "text/x-python",
   "name": "python",
   "nbconvert_exporter": "python",
   "pygments_lexer": "ipython3",
   "version": "3.8.10"
  }
 },
 "nbformat": 4,
 "nbformat_minor": 5
}
