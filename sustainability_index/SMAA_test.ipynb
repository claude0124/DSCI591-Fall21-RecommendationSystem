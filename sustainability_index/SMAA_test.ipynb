{
 "cells": [
  {
   "cell_type": "code",
   "execution_count": 1,
   "id": "b9ab3a8d-3a15-4466-8823-f07f220024b1",
   "metadata": {},
   "outputs": [],
   "source": [
    "import numpy as np\n",
    "\n",
    "from pedigree_matrix import PedigreeMatrix\n"
   ]
  },
  {
   "cell_type": "code",
   "execution_count": 2,
   "id": "e365556e-131a-4d14-9bfa-a916f322a81d",
   "metadata": {},
   "outputs": [],
   "source": [
    "def GSD(uncert_vals, u_b=1.05):\n",
    "    A_b = (np.log(u_b))**2\n",
    "    \n",
    "    uncert_sum = np.sum(uncert_vals)+A_b\n",
    "    GSD = np.exp(uncert_sum)\n",
    "    return(GSD)\n",
    "    "
   ]
  },
  {
   "cell_type": "code",
   "execution_count": 3,
   "id": "6a033eb0-d242-40b0-b5b4-9a8dfe532522",
   "metadata": {},
   "outputs": [],
   "source": [
    "uncert = \"(1,1,1,1,5)\"\n",
    "#gsd = GSD(uncert)\n",
    "\n",
    "#uncert.append(gsd)"
   ]
  },
  {
   "cell_type": "code",
   "execution_count": 10,
   "id": "ce892fb2-f11c-4d9b-8007-1582417fc6d3",
   "metadata": {},
   "outputs": [],
   "source": [
    "uncert_nums = (1,2,3,4,5)\n",
    "pm = PedigreeMatrix(version=1)\n",
    "#pm.from_numbers(uncert_nums)\n",
    "\n",
    "#('reliability', 'completeness', 'temporal correlation', 'geographical correlation', 'further technological correlation', 'sample size')\n",
    "uncert = \"(3,2,1,2,2,3)\"\n",
    "pm.from_string(string=uncert)"
   ]
  },
  {
   "cell_type": "code",
   "execution_count": 11,
   "id": "75525521-9b53-4cb8-97f4-49d67ada7a4a",
   "metadata": {},
   "outputs": [
    {
     "data": {
      "text/plain": [
       "1.1271965677357918"
      ]
     },
     "execution_count": 11,
     "metadata": {},
     "output_type": "execute_result"
    }
   ],
   "source": [
    "pm.calculate(basic_uncertainty= 1.05, as_geometric_sigma=True)"
   ]
  },
  {
   "cell_type": "code",
   "execution_count": null,
   "id": "9a38ef23-0231-40ed-9620-458574eea130",
   "metadata": {},
   "outputs": [],
   "source": [
    "pm"
   ]
  },
  {
   "cell_type": "code",
   "execution_count": null,
   "id": "73b3de57-916a-4fc0-ac55-a1623ffbf148",
   "metadata": {},
   "outputs": [],
   "source": [
    "P_i = \"average standard deviation of all alternative materials in impact category, i.\"\n",
    "Q_i = P_i/2"
   ]
  }
 ],
 "metadata": {
  "kernelspec": {
   "display_name": "Python 3 (ipykernel)",
   "language": "python",
   "name": "python3"
  },
  "language_info": {
   "codemirror_mode": {
    "name": "ipython",
    "version": 3
   },
   "file_extension": ".py",
   "mimetype": "text/x-python",
   "name": "python",
   "nbconvert_exporter": "python",
   "pygments_lexer": "ipython3",
   "version": "3.7.9"
  }
 },
 "nbformat": 4,
 "nbformat_minor": 5
}
