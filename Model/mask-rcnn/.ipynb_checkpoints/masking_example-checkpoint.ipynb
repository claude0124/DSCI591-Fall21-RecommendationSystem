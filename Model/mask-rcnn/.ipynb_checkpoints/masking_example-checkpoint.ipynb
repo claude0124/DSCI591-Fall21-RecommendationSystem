{
 "cells": [
  {
   "cell_type": "code",
   "execution_count": 1,
   "metadata": {},
   "outputs": [],
   "source": [
    "import pickle as pkl\n",
    "import os\n",
    "import re\n",
    "import cv2\n",
    "import numpy as np"
   ]
  },
  {
   "cell_type": "code",
   "execution_count": 1,
   "metadata": {},
   "outputs": [
    {
     "ename": "NameError",
     "evalue": "name 'os' is not defined",
     "output_type": "error",
     "traceback": [
      "\u001b[0;31m---------------------------------------------------------------------------\u001b[0m",
      "\u001b[0;31mNameError\u001b[0m                                 Traceback (most recent call last)",
      "\u001b[0;32m<ipython-input-1-a16b0a96d092>\u001b[0m in \u001b[0;36m<module>\u001b[0;34m\u001b[0m\n\u001b[1;32m      1\u001b[0m \u001b[0mimage_path\u001b[0m \u001b[0;34m=\u001b[0m \u001b[0;34m'.../GitHub/DSCI591-Fall21-RecommendationSystem/data/image_data/processed'\u001b[0m\u001b[0;34m\u001b[0m\u001b[0;34m\u001b[0m\u001b[0m\n\u001b[0;32m----> 2\u001b[0;31m \u001b[0;32mfor\u001b[0m \u001b[0mi\u001b[0m \u001b[0;32min\u001b[0m \u001b[0mos\u001b[0m\u001b[0;34m.\u001b[0m\u001b[0mwalk\u001b[0m\u001b[0;34m(\u001b[0m\u001b[0mimage_path\u001b[0m\u001b[0;34m)\u001b[0m\u001b[0;34m:\u001b[0m\u001b[0;34m\u001b[0m\u001b[0;34m\u001b[0m\u001b[0m\n\u001b[0m\u001b[1;32m      3\u001b[0m     \u001b[0mimage_files\u001b[0m \u001b[0;34m=\u001b[0m \u001b[0mi\u001b[0m\u001b[0;34m[\u001b[0m\u001b[0;36m2\u001b[0m\u001b[0;34m]\u001b[0m\u001b[0;34m\u001b[0m\u001b[0;34m\u001b[0m\u001b[0m\n\u001b[1;32m      4\u001b[0m     \u001b[0;32mbreak\u001b[0m\u001b[0;34m\u001b[0m\u001b[0;34m\u001b[0m\u001b[0m\n\u001b[1;32m      5\u001b[0m \u001b[0;34m\u001b[0m\u001b[0m\n",
      "\u001b[0;31mNameError\u001b[0m: name 'os' is not defined"
     ]
    }
   ],
   "source": [
    "image_path = '.../GitHub/DSCI591-Fall21-RecommendationSystem/data/image_data/processed'\n",
    "for i in os.walk(image_path):\n",
    "    image_files = i[2]\n",
    "    break\n",
    "\n",
    "mask_path = '.../GitHub/DSCI591-Fall21-RecommendationSystem/data/image_data/processed/masks'\n",
    "for i in os.walk(mask_path):\n",
    "    mask_files = i[2]\n",
    "    break"
   ]
  },
  {
   "cell_type": "code",
   "execution_count": 7,
   "metadata": {},
   "outputs": [],
   "source": [
    "#for mask in mask list, find image and return the two\n",
    "\n",
    "num_pattern = '(\\d*)'\n",
    "\n",
    "mask_image_pairs = {}\n",
    "for mask_i in mask_files:\n",
    "    mask_ID = re.match(num_pattern, mask_i).group()\n",
    "    \n",
    "    for image_i in image_files:\n",
    "        image_ID = re.match(num_pattern, image_i).group()\n",
    "        if mask_ID == image_ID:\n",
    "            mask_image_pairs[image_ID] = (image_i, mask_i)\n",
    "            image_files.remove(image_i)\n",
    "            break"
   ]
  },
  {
   "cell_type": "code",
   "execution_count": 30,
   "metadata": {},
   "outputs": [],
   "source": [
    "#get an example image and mask\n",
    "for i in mask_image_pairs:\n",
    "    image_i, mask_i = mask_image_pairs[i]\n",
    "    \n",
    "    break\n",
    "    \n",
    "#load examples\n",
    "image_np = cv2.imread(image_path+'/'+image_i)\n",
    "\n",
    "with open(mask_path+'/'+mask_i, 'rb') as file:\n",
    "    mask_dict = pkl.load(file)"
   ]
  },
  {
   "cell_type": "code",
   "execution_count": 39,
   "metadata": {},
   "outputs": [],
   "source": [
    "#separate into r, g, b instances and mask each one\n",
    "r, g, b = np.ma.masked_where(mask_dict[0]['masks'][:,:,0]==0, image_np[:,:,0]), np.ma.masked_where(mask_dict[0]['masks'][:,:,0]==0, image_np[:,:,1]), np.ma.masked_where(mask_dict[0]['masks'][:,:,0]==0, image_np[:,:,2])\n",
    "\n",
    "#create initial blank mask \n",
    "mask = np.zeros(image_np.shape, dtype=np.uint8)\n",
    "mask = cv2.circle(mask, (260, 300), 225, (255,255,255), -1) \n",
    "\n",
    "# Mask input image with binary mask\n",
    "result = cv2.bitwise_and(image_np, mask)\n",
    "# Color background white\n",
    "result[mask==0] = 255 # Optional"
   ]
  },
  {
   "cell_type": "code",
   "execution_count": 40,
   "metadata": {},
   "outputs": [
    {
     "data": {
      "text/plain": [
       "<matplotlib.image.AxesImage at 0x7fb5901d9760>"
      ]
     },
     "execution_count": 42,
     "metadata": {},
     "output_type": "execute_result"
    },
    {
     "data": {
      "image/png": "[encoded data removed]",
      "text/plain": [
       "<Figure size 432x288 with 1 Axes>"
      ]
     },
     "metadata": {
      "needs_background": "light"
     },
     "output_type": "display_data"
    }
   ],
   "source": [
    "import matplotlib.pyplot as plt\n",
    "plt.imshow(result * ~r.mask[..., None])"
   ]
  },
  {
   "cell_type": "code",
   "execution_count": null,
   "metadata": {},
   "outputs": [],
   "source": []
  }
 ],
 "metadata": {
  "kernelspec": {
   "display_name": "Python 3",
   "language": "python",
   "name": "python3"
  },
  "language_info": {
   "codemirror_mode": {
    "name": "ipython",
    "version": 3
   },
   "file_extension": ".py",
   "mimetype": "text/x-python",
   "name": "python",
   "nbconvert_exporter": "python",
   "pygments_lexer": "ipython3",
   "version": "3.7.6"
  }
 },
 "nbformat": 4,
 "nbformat_minor": 5
}
