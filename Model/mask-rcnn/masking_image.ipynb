{
 "cells": [
  {
   "cell_type": "code",
   "execution_count": 46,
   "metadata": {},
   "outputs": [
    {
     "name": "stdout",
     "output_type": "stream",
     "text": [
      "Populating the interactive namespace from numpy and matplotlib\n"
     ]
    }
   ],
   "source": [
    "import os\n",
    "import numpy as np\n",
    "from PIL import Image\n",
    "%matplotlib inline\n",
    "import matplotlib.pyplot as plt\n",
    "import pickle\n",
    "from tqdm import tqdm\n",
    "%pylab inline\n",
    "import matplotlib.image as mpimg\n",
    "import re\n",
    "import cv2"
   ]
  },
  {
   "cell_type": "code",
   "execution_count": 58,
   "metadata": {
    "scrolled": false
   },
   "outputs": [],
   "source": [
    "# Get lists of images and masks\n",
    "image_path = '/Users/Claude/Documents/GitHub/DSCI591-Fall21-RecommendationSystem/data/image_data'\n",
    "image_files = []\n",
    "for root, dirs, files in os.walk(image_path):\n",
    "    image_files.append(files)\n",
    "    break\n",
    "mask_files = []\n",
    "mask_path = '/Users/Claude/Documents/GitHub/DSCI591-Fall21-RecommendationSystem/data/masks'\n",
    "for root, dirs, files in os.walk(mask_path):\n",
    "    mask_files.append(files)\n",
    "    break"
   ]
  },
  {
   "cell_type": "code",
   "execution_count": 59,
   "metadata": {},
   "outputs": [],
   "source": [
    "# Flatten the lists\n",
    "image_files = [image for sublist in image_files for image in sublist]\n",
    "mask_files = [mask for sublist in mask_files for mask in sublist]"
   ]
  },
  {
   "cell_type": "code",
   "execution_count": 60,
   "metadata": {},
   "outputs": [],
   "source": [
    "result_files = []\n",
    "result_path = '/Users/Claude/Documents/GitHub/DSCI591-Fall21-RecommendationSystem/data/masked_image'\n",
    "for root, dirs, files in os.walk(result_path):\n",
    "    result_files.append(files)\n",
    "    break\n",
    "result_files = [result for sublist in result_files for result in sublist]"
   ]
  },
  {
   "cell_type": "code",
   "execution_count": 61,
   "metadata": {},
   "outputs": [
    {
     "data": {
      "text/plain": [
       "1057"
      ]
     },
     "execution_count": 61,
     "metadata": {},
     "output_type": "execute_result"
    }
   ],
   "source": [
    "len(result_files)"
   ]
  },
  {
   "cell_type": "code",
   "execution_count": 62,
   "metadata": {},
   "outputs": [
    {
     "data": {
      "text/plain": [
       "2372"
      ]
     },
     "execution_count": 62,
     "metadata": {},
     "output_type": "execute_result"
    }
   ],
   "source": [
    "len(image_files)"
   ]
  },
  {
   "cell_type": "code",
   "execution_count": 63,
   "metadata": {},
   "outputs": [
    {
     "data": {
      "text/plain": [
       "1091"
      ]
     },
     "execution_count": 63,
     "metadata": {},
     "output_type": "execute_result"
    }
   ],
   "source": [
    "len(mask_files)"
   ]
  },
  {
   "cell_type": "markdown",
   "metadata": {},
   "source": [
    "So there are 2372 raw images, 1091 masks generated, 1059 pairs??? and 1057 results."
   ]
  },
  {
   "cell_type": "code",
   "execution_count": 64,
   "metadata": {},
   "outputs": [],
   "source": [
    "# Pair the image with cooresponding mask\n",
    "num_pattern = '(\\d*)'\n",
    "\n",
    "unpaired_mask = []\n",
    "\n",
    "mask_image_pairs = {}\n",
    "for mask_i in mask_files:\n",
    "    mask_ID = re.match(num_pattern, mask_i).group()\n",
    "    \n",
    "    for image_i in image_files:\n",
    "        image_ID = re.match(num_pattern, image_i).group()\n",
    "        if mask_ID == image_ID:\n",
    "            mask_image_pairs[image_ID] = (image_i, mask_i)\n",
    "            mask_files.remove(mask_i)\n",
    "            break\n"
   ]
  },
  {
   "cell_type": "code",
   "execution_count": 65,
   "metadata": {},
   "outputs": [
    {
     "data": {
      "text/plain": [
       "545"
      ]
     },
     "execution_count": 65,
     "metadata": {},
     "output_type": "execute_result"
    }
   ],
   "source": [
    "len(mask_files)"
   ]
  },
  {
   "cell_type": "code",
   "execution_count": 56,
   "metadata": {},
   "outputs": [
    {
     "data": {
      "text/plain": [
       "1059"
      ]
     },
     "execution_count": 56,
     "metadata": {},
     "output_type": "execute_result"
    }
   ],
   "source": [
    "k = len(mask_image_pairs)\n",
    "k"
   ]
  },
  {
   "cell_type": "code",
   "execution_count": 39,
   "metadata": {},
   "outputs": [
    {
     "data": {
      "text/plain": [
       "1059"
      ]
     },
     "execution_count": 39,
     "metadata": {},
     "output_type": "execute_result"
    }
   ],
   "source": [
    "unpaired_mask = sorted(unpaired_mask)\n",
    "len(unpaired_mask)"
   ]
  },
  {
   "cell_type": "code",
   "execution_count": 57,
   "metadata": {},
   "outputs": [
    {
     "name": "stderr",
     "output_type": "stream",
     "text": [
      " 21%|██▏       | 227/1059 [00:24<01:46,  7.81it/s]"
     ]
    },
    {
     "name": "stdout",
     "output_type": "stream",
     "text": [
      "Inconsistent shape between the condition and the input (got (3000, 2000) and (1500, 1000))\n",
      "1902_Indigo (blue)  Dye Kit + Good Tee Unisex_white_thegoodtee.png 1902_0_MASK.pkl\n"
     ]
    },
    {
     "name": "stderr",
     "output_type": "stream",
     "text": [
      " 71%|███████   | 750/1059 [01:21<00:46,  6.68it/s]"
     ]
    },
    {
     "name": "stdout",
     "output_type": "stream",
     "text": [
      "Inconsistent shape between the condition and the input (got (1200, 960) and (3000, 2000))\n",
      "1803_Freedom Long Sleeve Tee_Black_thegoodtee.png 1803_0_MASK.pkl\n"
     ]
    },
    {
     "name": "stderr",
     "output_type": "stream",
     "text": [
      "100%|██████████| 1059/1059 [01:56<00:00,  9.06it/s]\n"
     ]
    }
   ],
   "source": [
    "# Iterate through the image and mask pairs and combine them together\n",
    "k = len(mask_image_pairs)\n",
    "with tqdm(total=k) as pbar:\n",
    "    for i in mask_image_pairs:\n",
    "        pbar.update(1)\n",
    "        image_i, mask_i = mask_image_pairs[i]\n",
    "        try:\n",
    "            mask_image(image_i, mask_i, image_path, mask_path)\n",
    "        except Exception as e:\n",
    "            print(e)\n",
    "            print(image_i, mask_i)\n",
    "            \n",
    "            \n",
    "\n",
    "    \n",
    "# #load examples\n",
    "\n",
    "# image = plt.imread(os.path.join(image_path, image_i), 0)"
   ]
  },
  {
   "cell_type": "code",
   "execution_count": 27,
   "metadata": {},
   "outputs": [],
   "source": [
    "def mask_image(image_i, mask_i, image_path, mask_path):\n",
    "\n",
    "    # Load image\n",
    "    image = plt.imread(os.path.join(image_path, image_i), 0)\n",
    "\n",
    "    # Load mask\n",
    "    with open(mask_path+'/'+mask_i, 'rb') as file:\n",
    "        mask_dict = pickle.load(file)\n",
    "\n",
    "    #separate into r, g, b instances and mask each one\n",
    "    r, g, b = np.ma.masked_where(mask_dict[0]['masks'][:,:,0]==0, image[:,:,0]), np.ma.masked_where(mask_dict[0]['masks'][:,:,0]==0, image[:,:,1]), np.ma.masked_where(mask_dict[0]['masks'][:,:,0]==0, image[:,:,2])\n",
    "\n",
    "    #create initial blank mask \n",
    "    mask = np.zeros(image.shape, dtype=np.uint8)\n",
    "    mask = cv2.circle(mask, (260, 300), 225, (255,255,255), -1) \n",
    "\n",
    "    # Mask input image with binary mask\n",
    "    result = cv2.bitwise_and(image, mask)\n",
    "\n",
    "    # Color background white\n",
    "    result[mask==0] = 255 # Optional\n",
    "\n",
    "    # image np array applied with mask\n",
    "    img = result * ~r.mask[..., None]\n",
    "\n",
    "    # Use mask_ID as unique ID for each file\n",
    "    num_pattern = \"(\\d*)\"\n",
    "    file_ID = re.match(num_pattern, mask_i).group()\n",
    "    folder_address = \"/Users/Claude/Documents/GitHub/DSCI591-Fall21-RecommendationSystem/data/masked_image\"\n",
    "    file_name = \"masked_\" + file_ID + \".png\"\n",
    "\n",
    "    # Save the output in the data/masked_image\n",
    "    im = Image.fromarray(img)\n",
    "    im.save(os.path.join(folder_address, file_name))"
   ]
  },
  {
   "cell_type": "code",
   "execution_count": null,
   "metadata": {},
   "outputs": [],
   "source": []
  }
 ],
 "metadata": {
  "kernelspec": {
   "display_name": "Python 3",
   "language": "python",
   "name": "python3"
  },
  "language_info": {
   "codemirror_mode": {
    "name": "ipython",
    "version": 3
   },
   "file_extension": ".py",
   "mimetype": "text/x-python",
   "name": "python",
   "nbconvert_exporter": "python",
   "pygments_lexer": "ipython3",
   "version": "3.7.10"
  }
 },
 "nbformat": 4,
 "nbformat_minor": 4
}
