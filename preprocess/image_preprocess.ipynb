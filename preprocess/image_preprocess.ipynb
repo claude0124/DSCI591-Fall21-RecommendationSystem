{
 "cells": [
  {
   "cell_type": "markdown",
   "id": "91b3dc30",
   "metadata": {},
   "source": [
    "This notebook is to clean the image files that cannot open or is identical to the gray HM watermark image."
   ]
  },
  {
   "cell_type": "code",
   "execution_count": null,
   "id": "9aac7dd0",
   "metadata": {},
   "outputs": [],
   "source": [
    "import sys\n",
    "!{sys.executable} -m pip install pandas"
   ]
  },
  {
   "cell_type": "code",
   "execution_count": null,
   "id": "5fd29c1e",
   "metadata": {},
   "outputs": [],
   "source": [
    "!pip install tqdm"
   ]
  },
  {
   "cell_type": "code",
   "execution_count": 1,
   "id": "f68799ef",
   "metadata": {},
   "outputs": [],
   "source": [
    "import pandas as pd\n",
    "import os\n",
    "import tqdm\n",
    "import re\n",
    "import matplotlib.image as mpimg\n",
    "import matplotlib.pyplot as plt\n",
    "from PIL import Image\n",
    "import numpy as np\n",
    "from tqdm import tqdm"
   ]
  },
  {
   "cell_type": "code",
   "execution_count": 2,
   "id": "665ec7cb",
   "metadata": {},
   "outputs": [],
   "source": [
    "df = pd.read_csv(\"./data/E-Weaver_data.csv\", index_col = [0])\n",
    "\n",
    "n = df.shape[0]\n",
    "img_path = r\"./data/image_data\"\n",
    "file_lst = os.listdir(img_path)"
   ]
  },
  {
   "cell_type": "markdown",
   "id": "d1a15cd7",
   "metadata": {},
   "source": [
    "Check if any images are not downloaded and delete them from E-Weaver.csv"
   ]
  },
  {
   "cell_type": "code",
   "execution_count": 4,
   "id": "79315f80",
   "metadata": {},
   "outputs": [
    {
     "name": "stderr",
     "output_type": "stream",
     "text": [
      "100%|██████████| 2833/2833 [00:51<00:00, 55.22it/s]\n"
     ]
    },
    {
     "data": {
      "text/plain": [
       "[]"
      ]
     },
     "execution_count": 4,
     "metadata": {},
     "output_type": "execute_result"
    }
   ],
   "source": [
    "# Use file id=537 as the example image to compare with\n",
    "watermark_example = r\"./data/misc/537.png\"\n",
    "invalid_img_lst = []\n",
    "\n",
    "watermark_img = Image.open(watermark_example)\n",
    "watermark_pix = np.array(watermark_img)\n",
    "k = len(file_lst)\n",
    "with tqdm(total = k) as pbar:\n",
    "    for filename in file_lst:\n",
    "        pbar.update(1)\n",
    "        try:\n",
    "            img = Image.open(os.path.join(img_path, filename))\n",
    "            pix = np.array(img)\n",
    "\n",
    "            # check if the current image is an invalid watermark image\n",
    "            if np.array_equal(pix, watermark_pix):\n",
    "                watermark_lst.append(filename)\n",
    "\n",
    "        except: # check if the current image cannot be opened\n",
    "            invalid_img_lst.append(filename)\n",
    "        \n",
    "invalid_img_lst       "
   ]
  },
  {
   "cell_type": "code",
   "execution_count": 5,
   "id": "ca85730d",
   "metadata": {},
   "outputs": [
    {
     "data": {
      "text/plain": [
       "0"
      ]
     },
     "execution_count": 5,
     "metadata": {},
     "output_type": "execute_result"
    }
   ],
   "source": [
    "len(invalid_img_lst)"
   ]
  },
  {
   "cell_type": "markdown",
   "id": "a871b494",
   "metadata": {},
   "source": [
    "walk through the image_data folder and delete all invalid_img_lst as well as from E-Weaver.csv"
   ]
  },
  {
   "cell_type": "code",
   "execution_count": 6,
   "id": "9c451d8c",
   "metadata": {},
   "outputs": [
    {
     "name": "stderr",
     "output_type": "stream",
     "text": [
      "100%|██████████| 2833/2833 [00:00<00:00, 321451.73it/s]\n"
     ]
    }
   ],
   "source": [
    "# Delete invalid image in the image_data\n",
    "f1 = lambda x: os.remove(x)\n",
    "for dirpath, dnames, fnames in os.walk(img_path):\n",
    "    with tqdm(total=len(fnames)) as pbar:\n",
    "        for f in fnames:\n",
    "            pbar.update(1)\n",
    "            if (f.endswith(\".png\")) and (f in invalid_img_lst):\n",
    "                f1(os.path.join(dirpath, f))"
   ]
  },
  {
   "cell_type": "code",
   "execution_count": 7,
   "id": "e82d16ae",
   "metadata": {},
   "outputs": [
    {
     "data": {
      "text/plain": [
       "2833"
      ]
     },
     "execution_count": 7,
     "metadata": {},
     "output_type": "execute_result"
    }
   ],
   "source": [
    "len(os.listdir(img_path))"
   ]
  },
  {
   "cell_type": "code",
   "execution_count": 8,
   "id": "d3f10f54",
   "metadata": {},
   "outputs": [],
   "source": [
    "# delete rows with id matching with invalid_img_lst filename\n",
    "id_lst = []\n",
    "num_pattern = '(\\d*)'\n",
    "for filename in invalid_img_lst:\n",
    "    ID = re.match(num_pattern, filename).group()\n",
    "    id_lst.append(int(ID))"
   ]
  },
  {
   "cell_type": "code",
   "execution_count": 9,
   "id": "39f18c75",
   "metadata": {},
   "outputs": [
    {
     "data": {
      "text/plain": [
       "0"
      ]
     },
     "execution_count": 9,
     "metadata": {},
     "output_type": "execute_result"
    }
   ],
   "source": [
    "len(id_lst)"
   ]
  },
  {
   "cell_type": "code",
   "execution_count": 10,
   "id": "e12b629d",
   "metadata": {},
   "outputs": [
    {
     "name": "stderr",
     "output_type": "stream",
     "text": [
      "0it [00:00, ?it/s]\n"
     ]
    }
   ],
   "source": [
    "with tqdm(total=len(id_lst)) as pbar:\n",
    "    for i in id_lst:\n",
    "        pbar.update(1)\n",
    "        \n",
    "        df = df[df.id != i]"
   ]
  },
  {
   "cell_type": "code",
   "execution_count": 11,
   "id": "c859c3b4",
   "metadata": {},
   "outputs": [],
   "source": [
    "# update E-Weaver.csv\n",
    "df.to_csv(r\"./data/E-Weaver_data.csv\")"
   ]
  },
  {
   "cell_type": "code",
   "execution_count": 12,
   "id": "d376981b",
   "metadata": {},
   "outputs": [
    {
     "data": {
      "text/plain": [
       "2833"
      ]
     },
     "execution_count": 12,
     "metadata": {},
     "output_type": "execute_result"
    }
   ],
   "source": [
    "df.shape[0]"
   ]
  },
  {
   "cell_type": "code",
   "execution_count": null,
   "id": "639b4d9f",
   "metadata": {},
   "outputs": [],
   "source": []
  }
 ],
 "metadata": {
  "kernelspec": {
   "display_name": "Python 3",
   "language": "python",
   "name": "python3"
  },
  "language_info": {
   "codemirror_mode": {
    "name": "ipython",
    "version": 3
   },
   "file_extension": ".py",
   "mimetype": "text/x-python",
   "name": "python",
   "nbconvert_exporter": "python",
   "pygments_lexer": "ipython3",
   "version": "3.7.10"
  }
 },
 "nbformat": 4,
 "nbformat_minor": 5
}
